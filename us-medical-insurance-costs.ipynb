{
 "cells": [
  {
   "cell_type": "markdown",
   "metadata": {},
   "source": [
    "# **U.S. Medical Insurance Costs* "
   ]
  },
  {
   "cell_type": "markdown",
   "metadata": {},
   "source": [
    "## import modules"
   ]
  },
  {
   "cell_type": "code",
   "execution_count": 138,
   "metadata": {},
   "outputs": [],
   "source": [
    "import csv\n",
    "from statistics import mean"
   ]
  },
  {
   "cell_type": "markdown",
   "metadata": {},
   "source": [
    "## import dataset"
   ]
  },
  {
   "cell_type": "code",
   "execution_count": 139,
   "metadata": {},
   "outputs": [],
   "source": [
    "dictionary = {}\n",
    "lista = []\n",
    "#age,sex,bmi,children,smoker,region,charges"
   ]
  },
  {
   "cell_type": "code",
   "execution_count": 140,
   "metadata": {},
   "outputs": [],
   "source": [
    "with open('insurance.csv') as insurance_csv:\n",
    "    insurance_dict = csv.DictReader(insurance_csv)\n",
    "    for record in insurance_dict:\n",
    "        dictionary = {\"age\": record[\"age\"], \n",
    "                      \"sex\": record[\"sex\"], \n",
    "                      \"bmi\": record[\"bmi\"], \n",
    "                      \"children\": record[\"children\"], \n",
    "                      \"smoker\": record[\"smoker\"], \n",
    "                      \"region\": record[\"region\"], \n",
    "                      \"charges\": record[\"charges\"],}\n",
    "        lista.append(dictionary)\n",
    "        dictionary = {}"
   ]
  },
  {
   "cell_type": "markdown",
   "metadata": {},
   "source": [
    "# FUNCIONES"
   ]
  },
  {
   "cell_type": "markdown",
   "metadata": {},
   "source": [
    "## Función: Promedio de el registro en un campo númerico"
   ]
  },
  {
   "cell_type": "code",
   "execution_count": 141,
   "metadata": {},
   "outputs": [],
   "source": [
    "def average(keyword, registro = lista):\n",
    "    total = 0\n",
    "    for record in registro:\n",
    "        total += float(record[keyword])\n",
    "    if len(registro) >= 1:\n",
    "        return total, round(total / len(registro), 2)\n",
    "    else:\n",
    "        return 0, 0"
   ]
  },
  {
   "cell_type": "code",
   "execution_count": 142,
   "metadata": {},
   "outputs": [],
   "source": [
    "def average1(keyword, registro = lista):\n",
    "    total = 0\n",
    "    for record in registro:\n",
    "        total += float(record[keyword])\n",
    "    if len(registro) >= 1:\n",
    "        return  round(total / len(registro), 2)\n",
    "    else:\n",
    "        return 0, 0"
   ]
  },
  {
   "cell_type": "markdown",
   "metadata": {},
   "source": [
    "## Función: Diferenciar entre dos opciones"
   ]
  },
  {
   "cell_type": "code",
   "execution_count": 143,
   "metadata": {},
   "outputs": [],
   "source": [
    "def semi_average(registro, keyword, op1, keyword_2 = \"charges\"):\n",
    "    group1 = 0\n",
    "    cost1 = 0\n",
    "    cost2 = 0\n",
    "    lista_aux_true = []\n",
    "    lista_aux_false = []\n",
    "    for record in registro:\n",
    "        if record[keyword] == op1:\n",
    "            group1 +=1\n",
    "            cost1 += float(record[keyword_2])\n",
    "            lista_aux_true.append(record)\n",
    "        else:\n",
    "            cost2 += float(record[keyword_2])\n",
    "            lista_aux_false.append(record)\n",
    "    return cost1, cost2, group1, (cost1 / group1), (cost2 /( len(lista) - group1)), lista_aux_false, lista_aux_true"
   ]
  },
  {
   "cell_type": "markdown",
   "metadata": {},
   "source": [
    "### Función: Contar número de eventos únicos en Dictionary"
   ]
  },
  {
   "cell_type": "code",
   "execution_count": 144,
   "metadata": {},
   "outputs": [],
   "source": [
    "def count(registro, keyword):\n",
    "    lista_unica = []\n",
    "    lista_total = []\n",
    "    eventos_por_lista = []\n",
    "    for record in registro:\n",
    "        if record[keyword] not in lista_unica:\n",
    "            lista_unica.append(record[keyword])\n",
    "        lista_total.append(record[keyword])\n",
    "    \n",
    "    for data in lista_unica:\n",
    "        eventos_por_lista.append((data, lista_total.count(data)))\n",
    "        \n",
    "    return lista_unica, lista_total, eventos_por_lista"
   ]
  },
  {
   "cell_type": "markdown",
   "metadata": {},
   "source": [
    "## Función: Regresar una lista de relación de un dato y su costo"
   ]
  },
  {
   "cell_type": "code",
   "execution_count": 145,
   "metadata": {},
   "outputs": [],
   "source": [
    "def semi_average_parameters(registro, keyword, op1, keyword_2 = \"charges\"):\n",
    "    lista_aux_true = []\n",
    "    for record in registro:\n",
    "        if record[keyword] == str(op1):\n",
    "            lista_aux_true.append(record[keyword_2])\n",
    "    return  lista_aux_true"
   ]
  },
  {
   "cell_type": "markdown",
   "metadata": {},
   "source": [
    "## Función: Regresar una lista de relación de un dato y su costo (rango de datos)"
   ]
  },
  {
   "cell_type": "code",
   "execution_count": 146,
   "metadata": {},
   "outputs": [],
   "source": [
    "def semi_average_parameters_range(registro, keyword, op1, op2, keyword_2 = \"charges\"):\n",
    "    lista_aux_true = []\n",
    "    for record in registro:\n",
    "        if record[keyword] > str(op1) and record[keyword] < str(op2):\n",
    "            lista_aux_true.append(record)\n",
    "    return  lista_aux_true"
   ]
  },
  {
   "cell_type": "markdown",
   "metadata": {},
   "source": [
    "## Función: Imprimir"
   ]
  },
  {
   "cell_type": "code",
   "execution_count": 147,
   "metadata": {},
   "outputs": [],
   "source": [
    "def imprimir(positive_cost, negative_cost, positive_population, positive_average_cost, negative_average_cost, negative_list, positive_list):    \n",
    "    print(\"Number of People whose do it: {}\\nAverage Cost per people whose do it: {}\".format(positive_population, round(positive_average_cost,3)))\n",
    "\n",
    "    print(\"\\n\\nNumber of People whose dont: {}\\nAverage Cost per people whose dont: {}\"\n",
    "      .format((len(lista) - positive_population), round(negative_average_cost,3)))\n",
    "\n",
    "    ratio = round(positive_average_cost / negative_average_cost, 3)\n",
    "    print(\"\\n\\nThe cost for Average Cost per people whose do it is {} % higher than whose dont.\".format(int(ratio*100)))"
   ]
  },
  {
   "cell_type": "markdown",
   "metadata": {},
   "source": [
    "# Código"
   ]
  },
  {
   "cell_type": "markdown",
   "metadata": {},
   "source": [
    "### Average ages of the patients"
   ]
  },
  {
   "cell_type": "code",
   "execution_count": 148,
   "metadata": {},
   "outputs": [],
   "source": [
    "total, average_age = average(\"age\")"
   ]
  },
  {
   "cell_type": "markdown",
   "metadata": {},
   "source": [
    "### Average cost per age decile (0 -10, 11 - 21 -30, 31- 40, 41-50, 51-60, 61-70, 71-80, 81-90, 91- "
   ]
  },
  {
   "cell_type": "code",
   "execution_count": 149,
   "metadata": {},
   "outputs": [],
   "source": [
    "cost_per_age = {}\n",
    "population_per_age = []\n",
    "\n",
    "for i in range(0, 100, 10):                                      #Se crean las listas con los integrantes de cada rango de edad\n",
    "    lista1 = []\n",
    "    lista1 = semi_average_parameters_range(lista, \"age\", i, (i+10))\n",
    "    cost_per_age.update({str(i): lista1})                        #Se anexan dichas listas al diccionario\n",
    "\n",
    "for i in range(0, 100, 10):                                      #Se crea una lista con la cantidad de integrantes por decil\n",
    "    population_per_age.append(len(cost_per_age[str(i)]))"
   ]
  },
  {
   "cell_type": "code",
   "execution_count": 150,
   "metadata": {},
   "outputs": [],
   "source": [
    "percile_average_cost = []\n",
    "\n",
    "for i in range(0, 100, 10):                                      #Se calcula el costo promedio por decil\n",
    "    percile_average_cost.append(average(\"charges\", cost_per_age[str(i)]))"
   ]
  },
  {
   "cell_type": "markdown",
   "metadata": {},
   "source": [
    "### Analyze where a majority of the individuals are from."
   ]
  },
  {
   "cell_type": "code",
   "execution_count": 151,
   "metadata": {},
   "outputs": [],
   "source": [
    "ubicacion_unica, ubicaciones_repetidas, poblacion_por_ubicacion = count(lista, \"region\")"
   ]
  },
  {
   "cell_type": "markdown",
   "metadata": {},
   "source": [
    "### Average difference between smokers and no smokers patients."
   ]
  },
  {
   "cell_type": "code",
   "execution_count": 152,
   "metadata": {},
   "outputs": [],
   "source": [
    "smoke_cost, non_smoke_cost, population_smoke, average_smoke, average_non_smoke, no_smoke_list, smoke_list = semi_average(lista, \"smoker\", \"yes\")"
   ]
  },
  {
   "cell_type": "markdown",
   "metadata": {},
   "source": [
    "### Number of children per patient"
   ]
  },
  {
   "cell_type": "code",
   "execution_count": 153,
   "metadata": {},
   "outputs": [],
   "source": [
    "non_children_cost, children_cost, population_non_children, average_cost_non_children, average_cost_children, children_list, children_non_list = semi_average(lista, \"children\", \"0\")\n",
    "\n",
    "total = 0\n",
    "for data in children_list:\n",
    "    total += float(data[\"age\"])\n",
    "average_age_with_children = round(total / len(children_list), 2)"
   ]
  },
  {
   "cell_type": "code",
   "execution_count": 154,
   "metadata": {},
   "outputs": [],
   "source": [
    "children_average, children = {}, {}\n",
    "lista1, lista2 = [], []\n",
    "\n",
    "for i in range(1, 6):\n",
    "    lista1 = semi_average_parameters(children_list, \"children\", i)\n",
    "    children.update({i: lista1})\n",
    "    for dato in lista1:\n",
    "        lista2.append(float(dato))\n",
    "    children_average.update({str(i): round((sum(lista2) / len(lista2)), 3)})"
   ]
  },
  {
   "cell_type": "markdown",
   "metadata": {},
   "source": [
    "## Sex"
   ]
  },
  {
   "cell_type": "code",
   "execution_count": 155,
   "metadata": {},
   "outputs": [],
   "source": [
    "men_cost, women_smoke_cost, men_population, men_average_population, women_average_population, women_list, men_list = semi_average(lista, \"sex\", \"male\")"
   ]
  },
  {
   "cell_type": "markdown",
   "metadata": {},
   "source": [
    "## BMI"
   ]
  },
  {
   "cell_type": "markdown",
   "metadata": {},
   "source": [
    "under: <18.5,  healthy: <25 and >=18.5,  over: <30 and >=25, obese: >30 "
   ]
  },
  {
   "cell_type": "code",
   "execution_count": 156,
   "metadata": {},
   "outputs": [],
   "source": [
    "under, healthy, over, obese = [], [],[], []\n",
    "bmi_dictionary = {}\n",
    "for record in lista:\n",
    "    if float(record[\"bmi\"]) < 18.5:\n",
    "        under.append(record)\n",
    "    elif float(record[\"bmi\"]) < 25 and float(record[\"bmi\"]) >= 18.5:\n",
    "        healthy.append(record)\n",
    "    elif float(record[\"bmi\"]) < 30 and float(record[\"bmi\"]) >= 25:\n",
    "        over.append(record)\n",
    "    else:\n",
    "        obese.append(record)\n",
    "bmi_dictionary[\"under\"] = average1(\"charges\", under)\n",
    "bmi_dictionary[\"healthy\"] = average1(\"charges\", healthy)\n",
    "bmi_dictionary[\"over\"] = average1(\"charges\", over)\n",
    "bmi_dictionary[\"obese\"] = average1(\"charges\", obese)"
   ]
  },
  {
   "cell_type": "markdown",
   "metadata": {},
   "source": [
    "# Resultados"
   ]
  },
  {
   "cell_type": "markdown",
   "metadata": {},
   "source": [
    "## Edad promedio de los pacientes"
   ]
  },
  {
   "cell_type": "code",
   "execution_count": 157,
   "metadata": {},
   "outputs": [
    {
     "name": "stdout",
     "output_type": "stream",
     "text": [
      "La edad promedio de los usuarios es : 39.21 años.\n"
     ]
    }
   ],
   "source": [
    "print(\"La edad promedio de los usuarios es : \" + str(round(average_age, 2)) + \" años.\")\n",
    "# var (int) average_age"
   ]
  },
  {
   "cell_type": "markdown",
   "metadata": {},
   "source": [
    "## Número de pacientes por rango"
   ]
  },
  {
   "cell_type": "code",
   "execution_count": 158,
   "metadata": {},
   "outputs": [
    {
     "name": "stdout",
     "output_type": "stream",
     "text": [
      "1 - 10: 0\n",
      "11 - 20: 137\n",
      "21 - 30: 251\n",
      "31 - 40: 230\n",
      "41 - 50: 252\n",
      "51 - 60: 242\n",
      "61 - 70: 91\n",
      "71 - 80: 0\n",
      "81 - 90: 0\n",
      "91 - 100: 0\n"
     ]
    }
   ],
   "source": [
    "for i in range(0, 100, 10):\n",
    "    population_per_age.append(len(cost_per_age[str(i)]))\n",
    "    print(\"{} - {}: {}\".format((i+1), (i+10), population_per_age[int(i / 10)]))\n",
    "# var (list) population_per_age"
   ]
  },
  {
   "cell_type": "markdown",
   "metadata": {},
   "source": [
    "## Costo de los pacientes por decil"
   ]
  },
  {
   "cell_type": "code",
   "execution_count": 159,
   "metadata": {},
   "outputs": [
    {
     "name": "stdout",
     "output_type": "stream",
     "text": [
      "El costo promedio en el decil de 1 a 10 años es 0\n",
      "El costo promedio en el decil de 11 a 20 años es 8407.35\n",
      "El costo promedio en el decil de 21 a 30 años es 9492.67\n",
      "El costo promedio en el decil de 31 a 40 años es 11623.7\n",
      "El costo promedio en el decil de 41 a 50 años es 14680.66\n",
      "El costo promedio en el decil de 51 a 60 años es 16594.96\n",
      "El costo promedio en el decil de 61 a 70 años es 21063.16\n",
      "El costo promedio en el decil de 71 a 80 años es 0\n",
      "El costo promedio en el decil de 81 a 90 años es 0\n",
      "El costo promedio en el decil de 91 a 100 años es 0\n"
     ]
    }
   ],
   "source": [
    "for i in range(0, 100, 10):\n",
    "    print(\"El costo promedio en el decil de {minimo} a {maximo} años es {average}\"\n",
    "          .format(minimo = (i + 1), maximo = (i + 10), average = (percile_average_cost[int(i / 10)][1])))\n",
    "# var (list) percile_average_cost"
   ]
  },
  {
   "cell_type": "markdown",
   "metadata": {},
   "source": [
    "## Orígen geográfico de los pacientes"
   ]
  },
  {
   "cell_type": "code",
   "execution_count": 160,
   "metadata": {},
   "outputs": [
    {
     "name": "stdout",
     "output_type": "stream",
     "text": [
      "Existen 4 número de ubicaciones las cuales son:\n",
      "\n",
      "Southwest con 325 habitantes.\n",
      "Southeast con 364 habitantes.\n",
      "Northwest con 325 habitantes.\n",
      "Northeast con 324 habitantes.\n",
      "\n",
      "Para un total de 1338 registros.\n"
     ]
    }
   ],
   "source": [
    "print(\"Existen {} número de ubicaciones las cuales son:\\n\".format(len(ubicacion_unica)))\n",
    "for data in poblacion_por_ubicacion:\n",
    "    print(\"{} con {} habitantes.\".format((str(data[0])).title(), (data[1])))\n",
    "print(\"\\nPara un total de {} registros.\".format(len(ubicaciones_repetidas)))\n",
    "#3 var (listas) ubicacion_unica, ubicaiones_repetidas, poblacion_por_ubicacion"
   ]
  },
  {
   "cell_type": "markdown",
   "metadata": {},
   "source": [
    "## Elevación del costo por fumar"
   ]
  },
  {
   "cell_type": "code",
   "execution_count": 161,
   "metadata": {},
   "outputs": [
    {
     "name": "stdout",
     "output_type": "stream",
     "text": [
      "Number of People whose do it: 274\n",
      "Average Cost per people whose do it: 32050.232\n",
      "\n",
      "\n",
      "Number of People whose dont: 1064\n",
      "Average Cost per people whose dont: 8434.268\n",
      "\n",
      "\n",
      "The cost for Average Cost per people whose do it is 380 % higher than whose dont.\n"
     ]
    }
   ],
   "source": [
    "imprimir(smoke_cost, non_smoke_cost, population_smoke, average_smoke, average_non_smoke, no_smoke_list, smoke_list)\n",
    "# 2 var (float) smoke_cost, non_smoke_cost\n",
    "# 1 var (int) population_smoke\n",
    "# 2 var (float) average_smoke, average_non_smoke\n",
    "# 2 var (list) no_smoke_list, smoke_list"
   ]
  },
  {
   "cell_type": "markdown",
   "metadata": {},
   "source": [
    "## Diferencia en costos por tener y no tener niños"
   ]
  },
  {
   "cell_type": "code",
   "execution_count": 162,
   "metadata": {},
   "outputs": [
    {
     "name": "stdout",
     "output_type": "stream",
     "text": [
      "Number of People whose do it: 574\n",
      "Average Cost per people whose do it: 12365.976\n",
      "\n",
      "\n",
      "Number of People whose dont: 764\n",
      "Average Cost per people whose dont: 13949.941\n",
      "\n",
      "\n",
      "The cost for Average Cost per people whose do it is 88 % higher than whose dont.\n"
     ]
    }
   ],
   "source": [
    "imprimir(non_children_cost, children_cost, population_non_children, average_cost_non_children, average_cost_children, children_list, children_non_list)\n",
    "# 2 var (float) children_cost, non_children_cost\n",
    "# 1 var (int)population_children\n",
    "# 2 var (float) average_children, average_non_children\n",
    "# 2 var (list) no_children_list, children_list\n",
    "# 1 var (float) average_age_with_children"
   ]
  },
  {
   "cell_type": "markdown",
   "metadata": {},
   "source": [
    "## Costo por cantidad de niños"
   ]
  },
  {
   "cell_type": "code",
   "execution_count": 163,
   "metadata": {},
   "outputs": [
    {
     "name": "stdout",
     "output_type": "stream",
     "text": [
      "1 children: cost: 12731.172\n",
      "2 children: cost: 13727.934\n",
      "3 children: cost: 14082.302\n",
      "4 children: cost: 14074.539\n"
     ]
    }
   ],
   "source": [
    "for i in range(1,5):\n",
    "    print(\"{} children: cost: {}\".format(i, children_average[str(i)]))\n",
    "# 1 var (dictionary{str(int): float})"
   ]
  },
  {
   "cell_type": "markdown",
   "metadata": {},
   "source": [
    "## Costo por sexo"
   ]
  },
  {
   "cell_type": "code",
   "execution_count": 164,
   "metadata": {},
   "outputs": [
    {
     "name": "stdout",
     "output_type": "stream",
     "text": [
      "Number of People whose do it: 676\n",
      "Average Cost per people whose do it: 13956.751\n",
      "\n",
      "\n",
      "Number of People whose dont: 662\n",
      "Average Cost per people whose dont: 12569.579\n",
      "\n",
      "\n",
      "The cost for Average Cost per people whose do it is 111 % higher than whose dont.\n"
     ]
    }
   ],
   "source": [
    "imprimir(men_cost, women_smoke_cost, men_population, men_average_population, women_average_population, women_list, men_list)\n",
    "# 2 var (float) men_cost, women_smoke_cost\n",
    "# 1 var (int) men_population\n",
    "# 2 var (float) men_average_population, women_average_population\n",
    "# 2 var (list) women_list, men_list\n",
    "\n",
    "#do it = male"
   ]
  },
  {
   "cell_type": "markdown",
   "metadata": {},
   "source": [
    "## BMI"
   ]
  },
  {
   "cell_type": "code",
   "execution_count": 165,
   "metadata": {},
   "outputs": [
    {
     "name": "stdout",
     "output_type": "stream",
     "text": [
      "{'under': 8852.2, 'healthy': 10409.34, 'over': 10987.51, 'obese': 15552.34}\n"
     ]
    }
   ],
   "source": [
    "print(bmi_dictionary)"
   ]
  }
 ],
 "metadata": {
  "kernelspec": {
   "display_name": "Python 3",
   "language": "python",
   "name": "python3"
  },
  "language_info": {
   "codemirror_mode": {
    "name": "ipython",
    "version": 3
   },
   "file_extension": ".py",
   "mimetype": "text/x-python",
   "name": "python",
   "nbconvert_exporter": "python",
   "pygments_lexer": "ipython3",
   "version": "3.8.8"
  }
 },
 "nbformat": 4,
 "nbformat_minor": 4
}
